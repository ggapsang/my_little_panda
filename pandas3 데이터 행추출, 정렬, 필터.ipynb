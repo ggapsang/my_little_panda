{
 "cells": [
  {
   "cell_type": "code",
   "execution_count": 60,
   "id": "44bdb32a",
   "metadata": {},
   "outputs": [],
   "source": [
    "import numpy as np\n",
    "import pandas as pd"
   ]
  },
  {
   "cell_type": "code",
   "execution_count": 61,
   "id": "26c5d94f",
   "metadata": {},
   "outputs": [],
   "source": [
    "df1 = pd.read_csv(\"example.csv\")"
   ]
  },
  {
   "cell_type": "code",
   "execution_count": 62,
   "id": "a139b969",
   "metadata": {},
   "outputs": [
    {
     "data": {
      "text/plain": [
       "Index(['공급일자', '요일', '공급월', '공급주차', '회원번호', '조합원상태', '물품대분류', '물품중분류', '물품소분류',\n",
       "       '물품명', '구매수량', '주소-구', '주소-동', '성별', '연령', '연령대', '구매금액', '구매매장',\n",
       "       '반품_원거래일자', '구매시각'],\n",
       "      dtype='object')"
      ]
     },
     "execution_count": 62,
     "metadata": {},
     "output_type": "execute_result"
    }
   ],
   "source": [
    "### 데이터프레임의 구성 : col, index, value\n",
    "df1.columns"
   ]
  },
  {
   "cell_type": "code",
   "execution_count": 63,
   "id": "7854ff6b",
   "metadata": {},
   "outputs": [
    {
     "data": {
      "text/plain": [
       "RangeIndex(start=0, stop=705571, step=1)"
      ]
     },
     "execution_count": 63,
     "metadata": {},
     "output_type": "execute_result"
    }
   ],
   "source": [
    "df1.index"
   ]
  },
  {
   "cell_type": "code",
   "execution_count": 64,
   "id": "1d609f16",
   "metadata": {},
   "outputs": [
    {
     "data": {
      "text/plain": [
       "array([['2018-01-02', '화', 1, ..., '매장C', nan, '10:04'],\n",
       "       ['2018-01-02', '화', 1, ..., '매장C', nan, '10:05'],\n",
       "       ['2018-01-02', '화', 1, ..., '매장C', nan, '10:05'],\n",
       "       ...,\n",
       "       ['2018-06-30', '토', 6, ..., '매장A', nan, '14:37'],\n",
       "       ['2018-06-30', '토', 6, ..., '매장A', nan, '18:04'],\n",
       "       ['2018-06-30', '토', 6, ..., '매장A', nan, '16:36']], dtype=object)"
      ]
     },
     "execution_count": 64,
     "metadata": {},
     "output_type": "execute_result"
    }
   ],
   "source": [
    "df1.values"
   ]
  },
  {
   "cell_type": "markdown",
   "id": "53c0b6d4",
   "metadata": {},
   "source": [
    "## 데이터 특정 행 추출"
   ]
  },
  {
   "cell_type": "code",
   "execution_count": 65,
   "id": "1fdb83a0",
   "metadata": {},
   "outputs": [
    {
     "data": {
      "text/plain": [
       "공급일자         2018-01-02\n",
       "요일                    화\n",
       "공급월                   1\n",
       "공급주차                  1\n",
       "회원번호          272369856\n",
       "조합원상태              정상회원\n",
       "물품대분류                과실\n",
       "물품중분류                과일\n",
       "물품소분류                사과\n",
       "물품명         사과/유(1.5kg)\n",
       "구매수량                1.0\n",
       "주소-구                수지구\n",
       "주소-동               풍덕천동\n",
       "성별                    여\n",
       "연령                 45.0\n",
       "연령대                 40대\n",
       "구매금액              22207\n",
       "구매매장                매장C\n",
       "반품_원거래일자            NaN\n",
       "구매시각              10:04\n",
       "Name: 0, dtype: object"
      ]
     },
     "execution_count": 65,
     "metadata": {},
     "output_type": "execute_result"
    }
   ],
   "source": [
    "df1.iloc[0] #iloc[]"
   ]
  },
  {
   "cell_type": "code",
   "execution_count": 66,
   "id": "c0ba95b1",
   "metadata": {},
   "outputs": [
    {
     "data": {
      "text/plain": [
       "공급일자             2018-06-30\n",
       "요일                        토\n",
       "공급월                       6\n",
       "공급주차                     26\n",
       "회원번호              301961920\n",
       "조합원상태                  정상회원\n",
       "물품대분류                    음료\n",
       "물품중분류                    음료\n",
       "물품소분류                    빙과\n",
       "물품명         포도꽁꽁(120ml)/매장용\n",
       "구매수량                    1.0\n",
       "주소-구                    수지구\n",
       "주소-동                   풍덕천동\n",
       "성별                        여\n",
       "연령                     49.0\n",
       "연령대                     40대\n",
       "구매금액                   1914\n",
       "구매매장                    매장A\n",
       "반품_원거래일자                NaN\n",
       "구매시각                  16:36\n",
       "Name: 705570, dtype: object"
      ]
     },
     "execution_count": 66,
     "metadata": {},
     "output_type": "execute_result"
    }
   ],
   "source": [
    "df1.iloc[-1]"
   ]
  },
  {
   "cell_type": "code",
   "execution_count": 67,
   "id": "e5093059",
   "metadata": {},
   "outputs": [
    {
     "data": {
      "text/html": [
       "<div>\n",
       "<style scoped>\n",
       "    .dataframe tbody tr th:only-of-type {\n",
       "        vertical-align: middle;\n",
       "    }\n",
       "\n",
       "    .dataframe tbody tr th {\n",
       "        vertical-align: top;\n",
       "    }\n",
       "\n",
       "    .dataframe thead th {\n",
       "        text-align: right;\n",
       "    }\n",
       "</style>\n",
       "<table border=\"1\" class=\"dataframe\">\n",
       "  <thead>\n",
       "    <tr style=\"text-align: right;\">\n",
       "      <th></th>\n",
       "      <th>공급일자</th>\n",
       "      <th>요일</th>\n",
       "      <th>공급월</th>\n",
       "      <th>공급주차</th>\n",
       "      <th>회원번호</th>\n",
       "      <th>조합원상태</th>\n",
       "      <th>물품대분류</th>\n",
       "      <th>물품중분류</th>\n",
       "      <th>물품소분류</th>\n",
       "      <th>물품명</th>\n",
       "      <th>구매수량</th>\n",
       "      <th>주소-구</th>\n",
       "      <th>주소-동</th>\n",
       "      <th>성별</th>\n",
       "      <th>연령</th>\n",
       "      <th>연령대</th>\n",
       "      <th>구매금액</th>\n",
       "      <th>구매매장</th>\n",
       "      <th>반품_원거래일자</th>\n",
       "      <th>구매시각</th>\n",
       "    </tr>\n",
       "  </thead>\n",
       "  <tbody>\n",
       "    <tr>\n",
       "      <th>0</th>\n",
       "      <td>2018-01-02</td>\n",
       "      <td>화</td>\n",
       "      <td>1</td>\n",
       "      <td>1</td>\n",
       "      <td>272369856</td>\n",
       "      <td>정상회원</td>\n",
       "      <td>과실</td>\n",
       "      <td>과일</td>\n",
       "      <td>사과</td>\n",
       "      <td>사과/유(1.5kg)</td>\n",
       "      <td>1.0</td>\n",
       "      <td>수지구</td>\n",
       "      <td>풍덕천동</td>\n",
       "      <td>여</td>\n",
       "      <td>45.0</td>\n",
       "      <td>40대</td>\n",
       "      <td>22207</td>\n",
       "      <td>매장C</td>\n",
       "      <td>NaN</td>\n",
       "      <td>10:04</td>\n",
       "    </tr>\n",
       "    <tr>\n",
       "      <th>1</th>\n",
       "      <td>2018-01-02</td>\n",
       "      <td>화</td>\n",
       "      <td>1</td>\n",
       "      <td>1</td>\n",
       "      <td>1506656256</td>\n",
       "      <td>정상회원</td>\n",
       "      <td>채소</td>\n",
       "      <td>버섯</td>\n",
       "      <td>느타리버섯</td>\n",
       "      <td>느타리버섯(300g)</td>\n",
       "      <td>1.0</td>\n",
       "      <td>수지구</td>\n",
       "      <td>풍덕천동</td>\n",
       "      <td>여</td>\n",
       "      <td>36.0</td>\n",
       "      <td>30대이하</td>\n",
       "      <td>4977</td>\n",
       "      <td>매장C</td>\n",
       "      <td>NaN</td>\n",
       "      <td>10:05</td>\n",
       "    </tr>\n",
       "    <tr>\n",
       "      <th>2</th>\n",
       "      <td>2018-01-02</td>\n",
       "      <td>화</td>\n",
       "      <td>1</td>\n",
       "      <td>1</td>\n",
       "      <td>1506656256</td>\n",
       "      <td>정상회원</td>\n",
       "      <td>축산물</td>\n",
       "      <td>알</td>\n",
       "      <td>유정란</td>\n",
       "      <td>유정란/매장용(10알/국내산)</td>\n",
       "      <td>1.0</td>\n",
       "      <td>수지구</td>\n",
       "      <td>풍덕천동</td>\n",
       "      <td>여</td>\n",
       "      <td>36.0</td>\n",
       "      <td>30대이하</td>\n",
       "      <td>7083</td>\n",
       "      <td>매장C</td>\n",
       "      <td>NaN</td>\n",
       "      <td>10:05</td>\n",
       "    </tr>\n",
       "    <tr>\n",
       "      <th>3</th>\n",
       "      <td>2018-01-02</td>\n",
       "      <td>화</td>\n",
       "      <td>1</td>\n",
       "      <td>1</td>\n",
       "      <td>1023108864</td>\n",
       "      <td>정상회원</td>\n",
       "      <td>반찬</td>\n",
       "      <td>두부/유부</td>\n",
       "      <td>두부</td>\n",
       "      <td>연두부(100g)</td>\n",
       "      <td>1.0</td>\n",
       "      <td>수지구</td>\n",
       "      <td>풍덕천동</td>\n",
       "      <td>여</td>\n",
       "      <td>36.0</td>\n",
       "      <td>30대이하</td>\n",
       "      <td>766</td>\n",
       "      <td>매장C</td>\n",
       "      <td>NaN</td>\n",
       "      <td>10:08</td>\n",
       "    </tr>\n",
       "    <tr>\n",
       "      <th>4</th>\n",
       "      <td>2018-01-02</td>\n",
       "      <td>화</td>\n",
       "      <td>1</td>\n",
       "      <td>1</td>\n",
       "      <td>1476143616</td>\n",
       "      <td>정상회원</td>\n",
       "      <td>간식</td>\n",
       "      <td>빵</td>\n",
       "      <td>식빵, 식사대용</td>\n",
       "      <td>아침빵(240g/8개)/매장</td>\n",
       "      <td>1.0</td>\n",
       "      <td>수지구</td>\n",
       "      <td>풍덕천동</td>\n",
       "      <td>여</td>\n",
       "      <td>34.0</td>\n",
       "      <td>30대이하</td>\n",
       "      <td>4403</td>\n",
       "      <td>매장C</td>\n",
       "      <td>NaN</td>\n",
       "      <td>10:09</td>\n",
       "    </tr>\n",
       "    <tr>\n",
       "      <th>5</th>\n",
       "      <td>2018-01-02</td>\n",
       "      <td>화</td>\n",
       "      <td>1</td>\n",
       "      <td>1</td>\n",
       "      <td>716128320</td>\n",
       "      <td>정상회원</td>\n",
       "      <td>축산물</td>\n",
       "      <td>알</td>\n",
       "      <td>유정란</td>\n",
       "      <td>유정란/매장용(10알/국내산)</td>\n",
       "      <td>1.0</td>\n",
       "      <td>수지구</td>\n",
       "      <td>풍덕천동</td>\n",
       "      <td>여</td>\n",
       "      <td>51.0</td>\n",
       "      <td>50대</td>\n",
       "      <td>7083</td>\n",
       "      <td>매장C</td>\n",
       "      <td>NaN</td>\n",
       "      <td>10:10</td>\n",
       "    </tr>\n",
       "    <tr>\n",
       "      <th>6</th>\n",
       "      <td>2018-01-02</td>\n",
       "      <td>화</td>\n",
       "      <td>1</td>\n",
       "      <td>1</td>\n",
       "      <td>743192512</td>\n",
       "      <td>정상회원</td>\n",
       "      <td>채소</td>\n",
       "      <td>과일채소</td>\n",
       "      <td>딸기</td>\n",
       "      <td>딸기/(500g)</td>\n",
       "      <td>1.0</td>\n",
       "      <td>수지구</td>\n",
       "      <td>성복동</td>\n",
       "      <td>여</td>\n",
       "      <td>51.0</td>\n",
       "      <td>50대</td>\n",
       "      <td>17038</td>\n",
       "      <td>매장C</td>\n",
       "      <td>NaN</td>\n",
       "      <td>10:12</td>\n",
       "    </tr>\n",
       "    <tr>\n",
       "      <th>7</th>\n",
       "      <td>2018-01-02</td>\n",
       "      <td>화</td>\n",
       "      <td>1</td>\n",
       "      <td>1</td>\n",
       "      <td>743192512</td>\n",
       "      <td>정상회원</td>\n",
       "      <td>채소</td>\n",
       "      <td>잎/줄기채소</td>\n",
       "      <td>어린잎채소</td>\n",
       "      <td>어린잎채소(100g)</td>\n",
       "      <td>2.0</td>\n",
       "      <td>수지구</td>\n",
       "      <td>성복동</td>\n",
       "      <td>여</td>\n",
       "      <td>51.0</td>\n",
       "      <td>50대</td>\n",
       "      <td>11104</td>\n",
       "      <td>매장C</td>\n",
       "      <td>NaN</td>\n",
       "      <td>10:12</td>\n",
       "    </tr>\n",
       "    <tr>\n",
       "      <th>8</th>\n",
       "      <td>2018-01-02</td>\n",
       "      <td>화</td>\n",
       "      <td>1</td>\n",
       "      <td>1</td>\n",
       "      <td>743192512</td>\n",
       "      <td>정상회원</td>\n",
       "      <td>채소</td>\n",
       "      <td>양념채소</td>\n",
       "      <td>생강</td>\n",
       "      <td>생강(300g)</td>\n",
       "      <td>1.0</td>\n",
       "      <td>수지구</td>\n",
       "      <td>성복동</td>\n",
       "      <td>여</td>\n",
       "      <td>51.0</td>\n",
       "      <td>50대</td>\n",
       "      <td>7083</td>\n",
       "      <td>매장C</td>\n",
       "      <td>NaN</td>\n",
       "      <td>10:12</td>\n",
       "    </tr>\n",
       "    <tr>\n",
       "      <th>9</th>\n",
       "      <td>2018-01-02</td>\n",
       "      <td>화</td>\n",
       "      <td>1</td>\n",
       "      <td>1</td>\n",
       "      <td>743192512</td>\n",
       "      <td>정상회원</td>\n",
       "      <td>채소</td>\n",
       "      <td>쌈채소류</td>\n",
       "      <td>쌈케일</td>\n",
       "      <td>쌈케일(150g)</td>\n",
       "      <td>1.0</td>\n",
       "      <td>수지구</td>\n",
       "      <td>성복동</td>\n",
       "      <td>여</td>\n",
       "      <td>51.0</td>\n",
       "      <td>50대</td>\n",
       "      <td>2584</td>\n",
       "      <td>매장C</td>\n",
       "      <td>NaN</td>\n",
       "      <td>10:12</td>\n",
       "    </tr>\n",
       "  </tbody>\n",
       "</table>\n",
       "</div>"
      ],
      "text/plain": [
       "         공급일자 요일  공급월  공급주차        회원번호 조합원상태 물품대분류   물품중분류     물품소분류  \\\n",
       "0  2018-01-02  화    1     1   272369856  정상회원    과실      과일        사과   \n",
       "1  2018-01-02  화    1     1  1506656256  정상회원    채소      버섯     느타리버섯   \n",
       "2  2018-01-02  화    1     1  1506656256  정상회원   축산물       알       유정란   \n",
       "3  2018-01-02  화    1     1  1023108864  정상회원    반찬   두부/유부        두부   \n",
       "4  2018-01-02  화    1     1  1476143616  정상회원    간식       빵  식빵, 식사대용   \n",
       "5  2018-01-02  화    1     1   716128320  정상회원   축산물       알       유정란   \n",
       "6  2018-01-02  화    1     1   743192512  정상회원    채소    과일채소        딸기   \n",
       "7  2018-01-02  화    1     1   743192512  정상회원    채소  잎/줄기채소     어린잎채소   \n",
       "8  2018-01-02  화    1     1   743192512  정상회원    채소    양념채소        생강   \n",
       "9  2018-01-02  화    1     1   743192512  정상회원    채소    쌈채소류       쌈케일   \n",
       "\n",
       "                물품명  구매수량 주소-구  주소-동 성별    연령    연령대   구매금액 구매매장  반품_원거래일자  \\\n",
       "0       사과/유(1.5kg)   1.0  수지구  풍덕천동  여  45.0    40대  22207  매장C       NaN   \n",
       "1       느타리버섯(300g)   1.0  수지구  풍덕천동  여  36.0  30대이하   4977  매장C       NaN   \n",
       "2  유정란/매장용(10알/국내산)   1.0  수지구  풍덕천동  여  36.0  30대이하   7083  매장C       NaN   \n",
       "3         연두부(100g)   1.0  수지구  풍덕천동  여  36.0  30대이하    766  매장C       NaN   \n",
       "4   아침빵(240g/8개)/매장   1.0  수지구  풍덕천동  여  34.0  30대이하   4403  매장C       NaN   \n",
       "5  유정란/매장용(10알/국내산)   1.0  수지구  풍덕천동  여  51.0    50대   7083  매장C       NaN   \n",
       "6         딸기/(500g)   1.0  수지구   성복동  여  51.0    50대  17038  매장C       NaN   \n",
       "7       어린잎채소(100g)   2.0  수지구   성복동  여  51.0    50대  11104  매장C       NaN   \n",
       "8          생강(300g)   1.0  수지구   성복동  여  51.0    50대   7083  매장C       NaN   \n",
       "9         쌈케일(150g)   1.0  수지구   성복동  여  51.0    50대   2584  매장C       NaN   \n",
       "\n",
       "    구매시각  \n",
       "0  10:04  \n",
       "1  10:05  \n",
       "2  10:05  \n",
       "3  10:08  \n",
       "4  10:09  \n",
       "5  10:10  \n",
       "6  10:12  \n",
       "7  10:12  \n",
       "8  10:12  \n",
       "9  10:12  "
      ]
     },
     "execution_count": 67,
     "metadata": {},
     "output_type": "execute_result"
    }
   ],
   "source": [
    "df1.iloc[0:10]"
   ]
  },
  {
   "cell_type": "markdown",
   "id": "acb66120",
   "metadata": {},
   "source": [
    "## 데이터 정렬 : sort_values"
   ]
  },
  {
   "cell_type": "code",
   "execution_count": null,
   "id": "27a0c95f",
   "metadata": {},
   "outputs": [],
   "source": [
    "df1.sort_values(by='구매금액') #기본은 오름차순이다"
   ]
  },
  {
   "cell_type": "code",
   "execution_count": null,
   "id": "c637c30b",
   "metadata": {},
   "outputs": [],
   "source": [
    "df1.sort_values(by='구매금액', ascending=False) #내림차순 정렬"
   ]
  },
  {
   "cell_type": "code",
   "execution_count": null,
   "id": "e4ee0005",
   "metadata": {},
   "outputs": [],
   "source": [
    "df1.sort_values(by='구매수량', ascending=False)"
   ]
  },
  {
   "cell_type": "code",
   "execution_count": null,
   "id": "7c1c8698",
   "metadata": {},
   "outputs": [],
   "source": [
    "df1.sort_values(by=['구매수량', '연령']) #다중조건 정렬"
   ]
  },
  {
   "cell_type": "code",
   "execution_count": null,
   "id": "673a9b3a",
   "metadata": {},
   "outputs": [],
   "source": [
    "df1.sort_values(by=['구매수량', '연령'], ascending=[False, True]) #구매수량은 내림차순으로, 연령대는 오름차순으로"
   ]
  },
  {
   "cell_type": "code",
   "execution_count": null,
   "id": "3f8340b4",
   "metadata": {},
   "outputs": [],
   "source": [
    "df1.sort_values(by=['구매수량', '연령'], ascending=[False, True]).iloc[:10] # 상위 10개 데이터"
   ]
  },
  {
   "cell_type": "markdown",
   "id": "c30d6bda",
   "metadata": {},
   "source": [
    "## 데이터 필터"
   ]
  },
  {
   "cell_type": "code",
   "execution_count": null,
   "id": "41413939",
   "metadata": {},
   "outputs": [],
   "source": [
    "df1['연령대'].value_counts() #항목별로 데이터의 개수를 볼 수 있다"
   ]
  },
  {
   "cell_type": "code",
   "execution_count": null,
   "id": "2b3dbad1",
   "metadata": {},
   "outputs": [],
   "source": [
    "cond1 = (df1['연령대'] == '40대') # bool type으로 데이터를 변수로 할당\n",
    "df1.loc[cond1] # 연령대에서 40대인 series 데이터만 찾아 보여줌"
   ]
  },
  {
   "cell_type": "code",
   "execution_count": null,
   "id": "e3702c12",
   "metadata": {},
   "outputs": [],
   "source": [
    "cond2 = (df1['연령대'] != '40대') # cond2는 40대를 제외한 데이터를 출력하게 된다\n",
    "df1.loc[~cond1] # cond1을 만족하지 않는다는 표시"
   ]
  },
  {
   "cell_type": "code",
   "execution_count": null,
   "id": "fa6f040c",
   "metadata": {},
   "outputs": [],
   "source": [
    "df1['성별'].value_counts()"
   ]
  },
  {
   "cell_type": "code",
   "execution_count": null,
   "id": "2cc8ec52",
   "metadata": {},
   "outputs": [],
   "source": [
    "cond3 = (df1['성별'] == '남')\n",
    "df1.loc[cond1 & cond3] #성별이 남성이면서 연령대가 40대인 사람들"
   ]
  },
  {
   "cell_type": "code",
   "execution_count": null,
   "id": "240aa6ff",
   "metadata": {},
   "outputs": [],
   "source": [
    "df1.loc[cond1 | cond3] # or 조건식"
   ]
  },
  {
   "cell_type": "markdown",
   "id": "24ce233e",
   "metadata": {},
   "source": [
    "## 연습 "
   ]
  },
  {
   "cell_type": "code",
   "execution_count": null,
   "id": "b29eb13c",
   "metadata": {},
   "outputs": [],
   "source": [
    "### 30대 여성들 데이터만 추출하여 구매금액이 높은 순서대로 정렬하여 파일 생성"
   ]
  },
  {
   "cell_type": "code",
   "execution_count": null,
   "id": "b05038ef",
   "metadata": {},
   "outputs": [],
   "source": [
    "cond_1 = (df1['성별'] == '여')\n",
    "cond_2 = (df1['연령대'] == '30대이하') & (df1['연령'] >= 30)\n",
    "df_30w = df1.loc[cond_1 & cond_2].sort_values('구매금액', ascending=False)"
   ]
  },
  {
   "cell_type": "code",
   "execution_count": null,
   "id": "ed6fa305",
   "metadata": {
    "scrolled": true
   },
   "outputs": [],
   "source": [
    "df_30w.shape"
   ]
  },
  {
   "cell_type": "code",
   "execution_count": null,
   "id": "e5edc1fa",
   "metadata": {},
   "outputs": [],
   "source": [
    "df_30w.to_csv(\"result_pandas3.csv\", encoding='cp949') #파일을 저장하기 (cp949 - 한글 인코딩 지원)"
   ]
  },
  {
   "cell_type": "code",
   "execution_count": null,
   "id": "307af8ec",
   "metadata": {},
   "outputs": [],
   "source": []
  }
 ],
 "metadata": {
  "kernelspec": {
   "display_name": "Python 3 (ipykernel)",
   "language": "python",
   "name": "python3"
  },
  "language_info": {
   "codemirror_mode": {
    "name": "ipython",
    "version": 3
   },
   "file_extension": ".py",
   "mimetype": "text/x-python",
   "name": "python",
   "nbconvert_exporter": "python",
   "pygments_lexer": "ipython3",
   "version": "3.10.9"
  }
 },
 "nbformat": 4,
 "nbformat_minor": 5
}
